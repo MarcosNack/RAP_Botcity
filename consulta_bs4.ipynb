{
 "cells": [
  {
   "cell_type": "code",
   "execution_count": 45,
   "metadata": {},
   "outputs": [],
   "source": [
    "import os\n",
    "import pyautogui as gui\n",
    "import requests\n",
    "\n",
    "from botcity.core import DesktopBot\n",
    "\n",
    "from bs4 import BeautifulSoup\n",
    "from botrpa.botrpa.bot import *\n",
    "\n",
    "from time import sleep\n"
   ]
  },
  {
   "cell_type": "code",
   "execution_count": 59,
   "metadata": {},
   "outputs": [
    {
     "data": {
      "text/plain": [
       "'c:\\\\Users\\\\marco\\\\Documents\\\\Projetcs\\\\RAP_Botcity'"
      ]
     },
     "execution_count": 59,
     "metadata": {},
     "output_type": "execute_result"
    }
   ],
   "source": [
    "os.getcwd()"
   ]
  },
  {
   "cell_type": "code",
   "execution_count": 60,
   "metadata": {},
   "outputs": [
    {
     "name": "stdout",
     "output_type": "stream",
     "text": [
      "Caminho file: c:\\Users\\marco\\Documents\\Projetcs\\RAP_Botcity\n",
      "Threshold not yet supported\n",
      "Threshold not yet supported\n"
     ]
    }
   ],
   "source": [
    "\n",
    "bot = DesktopBot()\n",
    "\n",
    "caminho = os.getcwd()\n",
    "\n",
    "print(f\"Caminho file: {caminho}\")\n",
    "# Opens the BotCity website.\n",
    "bot.browse(str(\"https://solucoes.receita.fazenda.gov.br/servicos/cnpjreva/cnpjreva_solicitacao.asp\"))\n",
    "\n",
    "camp = 0\n",
    "\n",
    "sleep(3)\n",
    "gui.hotkey(\"Win\", \"up\")\n",
    "\n",
    "# Clicar no campo pesquisa\n",
    "t = 0\n",
    "while bot.find_text( \"botrpa\\\\botrpa\\\\resources\\\\cnpj\", threshold=230, waiting_time=2000) == None:\n",
    "    if t == 5:\n",
    "        camp = 1\n",
    "        break\n",
    "    t += 1\n",
    "\n",
    "if camp == 0:\n",
    "    bot.find_text( \"botrpa\\\\botrpa\\\\resources\\\\cnpj\", threshold=230, waiting_time=0)\n",
    "    bot.click()\n",
    "\n",
    "    # Informar o CNPJ para consulta\n",
    "    sleep(1)\n",
    "    bot.paste(\"81905176000194\")\n",
    "    \n",
    "    # Clicar no checkbox captcha\n",
    "    t = 0\n",
    "    while bot.find( \"botrpa\\\\botrpa\\\\resources\\\\check_cap\", matching=0.97, waiting_time=1000) == None:\n",
    "        if t == 5:\n",
    "            camp = 1\n",
    "            break\n",
    "        t += 1\n",
    "\n",
    "    if camp == 0:\n",
    "        bot.find( \"botrpa\\\\botrpa\\\\resources\\\\check\", matching=0.97, waiting_time=0)\n",
    "        bot.click()\n",
    "                        \n",
    "        # Validar o captcha\n",
    "        t = 0\n",
    "        while bot.find( \"botrpa\\\\botrpa\\\\resources\\\\conf_cap\", matching=0.97, waiting_time=5000) == None:\n",
    "            if t == 5:                        \n",
    "                break\n",
    "            t += 1\n",
    "        \n",
    "        # Clicar no botão consulta\n",
    "        t = 0\n",
    "        while bot.find( \"botrpa\\\\botrpa\\\\resources\\\\consulta\", matching=0.97, waiting_time=1000) == None:            \n",
    "            bot.scroll_down(200) \n",
    "            if t == 5:\n",
    "                break\n",
    "            t += 1           \n",
    "            \n",
    "        bot.click()\n",
    "    \n",
    "        \n",
    "        # Cartão CNPJ encontrado\n",
    "        t = 0\n",
    "        while bot.find( \"botrpa\\\\botrpa\\\\resources\\\\cartao_cnpj\", matching=0.97, waiting_time=5000) == None:\n",
    "            if t == 5:\n",
    "                camp = 1\n",
    "                break\n",
    "            \n",
    "        if camp == 0:\n",
    "            # Salvar o cartão CNPJ\n",
    "            gui.hotkey(\"Ctrl\", \"s\")\n",
    "            sleep(3)\n",
    "            gui.write(rf\"{caminho}\\docs\\CNPJ.html\")\n",
    "            sleep(3)\n",
    "            gui.press(\"Enter\")\n",
    "        \n"
   ]
  },
  {
   "cell_type": "code",
   "execution_count": 69,
   "metadata": {},
   "outputs": [
    {
     "name": "stdout",
     "output_type": "stream",
     "text": [
      "C:\\Users\\marco\\Documents\\Projetcs\\RAP_Botcity\\docs\\CNPJ.html\n",
      "\n"
     ]
    },
    {
     "name": "stderr",
     "output_type": "stream",
     "text": [
      "C:\\Users\\marco\\AppData\\Local\\Temp\\ipykernel_9088\\946376909.py:3: MarkupResemblesLocatorWarning: The input looks more like a filename than markup. You may want to open this file and pass the filehandle into Beautiful Soup.\n",
      "  soup = BeautifulSoup(html_doc, 'html.parser')\n"
     ]
    }
   ],
   "source": [
    "html_doc = r\"C:\\Users\\marco\\Documents\\Projetcs\\RAP_Botcity\\docs\\CNPJ.html\"\n",
    "\n",
    "soup = BeautifulSoup(html_doc, 'html.parser')\n",
    "\n",
    "print(soup.prettify())"
   ]
  }
 ],
 "metadata": {
  "kernelspec": {
   "display_name": ".venv",
   "language": "python",
   "name": "python3"
  },
  "language_info": {
   "codemirror_mode": {
    "name": "ipython",
    "version": 3
   },
   "file_extension": ".py",
   "mimetype": "text/x-python",
   "name": "python",
   "nbconvert_exporter": "python",
   "pygments_lexer": "ipython3",
   "version": "3.11.0"
  },
  "orig_nbformat": 4
 },
 "nbformat": 4,
 "nbformat_minor": 2
}
